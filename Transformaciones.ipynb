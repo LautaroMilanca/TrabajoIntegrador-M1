{
 "cells": [
  {
   "cell_type": "code",
   "execution_count": null,
   "metadata": {},
   "outputs": [],
   "source": [
    "import pandas as pd\n",
    "import os\n",
    "from pathlib import Path\n",
    "\n",
    "data_path = Path(\"./Cvs\")"
   ]
  },
  {
   "cell_type": "code",
   "execution_count": null,
   "metadata": {},
   "outputs": [],
   "source": [
    "# Cargar una muestra de cada archivo\n",
    "csvs = list(data_path.glob(\"*.csv\"))\n",
    "dataframes = {csv.name: pd.read_csv(csv) for csv in csvs}\n",
    "for name, df in dataframes.items():\n",
    "    print(f\"\\n📄 {name}\")\n",
    "    display(df.head())"
   ]
  },
  {
   "cell_type": "code",
   "execution_count": null,
   "metadata": {},
   "outputs": [],
   "source": [
    "# Separar fecha y hora en FechaAgregado (carrito)\n",
    "df_carrito = dataframes.get(\"8.carrito.csv\")\n",
    "if df_carrito is not None:\n",
    "    df_carrito[\"Fecha\"] = pd.to_datetime(df_carrito[\"FechaAgregado\"]).dt.date\n",
    "    df_carrito[\"Hora\"] = pd.to_datetime(df_carrito[\"FechaAgregado\"]).dt.time\n",
    "    display(df_carrito.head())"
   ]
  },
  {
   "cell_type": "code",
   "execution_count": null,
   "metadata": {},
   "outputs": [],
   "source": [
    "# Extraer palabras clave de descripción de productos\n",
    "df_productos = dataframes.get(\"4.Productos.csv\")\n",
    "if df_productos is not None:\n",
    "    df_productos[\"Descripcion_Lower\"] = df_productos[\"Descripcion\"].astype(str).str.lower()\n",
    "    df_productos[\"Contiene_palabra_smart\"] = df_productos[\"Descripcion_Lower\"].str.contains(\"smart\")\n",
    "    display(df_productos[[\"Descripcion\", \"Contiene_palabra_smart\"]].head())"
   ]
  }
 ],
 "metadata": {
  "kernelspec": {
   "display_name": "Python 3",
   "language": "python",
   "name": "python3"
  },
  "language_info": {
   "name": "python",
   "version": "3.10"
  }
 },
 "nbformat": 4,
 "nbformat_minor": 5
}
